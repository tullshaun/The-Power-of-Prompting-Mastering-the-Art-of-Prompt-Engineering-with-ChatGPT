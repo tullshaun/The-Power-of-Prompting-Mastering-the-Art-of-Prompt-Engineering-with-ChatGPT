{
 "cells": [
  {
   "cell_type": "code",
   "execution_count": null,
   "id": "bc90487b",
   "metadata": {},
   "outputs": [],
   "source": [
    "\n",
    "# To create an OpenAI API key:\n",
    "# https://beta.openai.com/signup/\n",
    "\n",
    "# This is using a Jupyter file. To download Python Jupyter:\n",
    "# https://jupyter.org/install.html\n",
    "\n",
    "# To install the OpenAI API using pip, you can use the following command in your terminal or command prompt:\n",
    "\n",
    "# pip install openai\n",
    "    \n",
    "# Or to force an upgrade of the OpenAI API to a specific version, you can run the following command in a terminal or command prompt:\n",
    "\n",
    "# pip install --upgrade openai==0.27.0\n",
    "\n",
    "\n",
    "# This command will install the OpenAI Python module, which provides a convenient way to interact with the OpenAI API using Python. The module includes functions for authenticating with the API using your API key, as well as functions for sending requests to the API and handling the responses.\n",
    "\n",
    "# Once you have installed the OpenAI module, you can import it into your Python script or Jupyter notebook and use it to access the full range of OpenAI's powerful AI models and tools.\n",
    "\n",
    "\n",
    "# The OpenAI documentation for their chat API. \n",
    "# https://platform.openai.com/docs/guides/chat\n",
    "\n"
   ]
  },
  {
   "cell_type": "code",
   "execution_count": null,
   "id": "86c5772e",
   "metadata": {},
   "outputs": [],
   "source": [
    "# Import the openai module to access OpenAI's language models and other AI services through their API.\n",
    "import openai\n",
    "\n",
    "\n",
    "# Set your OpenAI API key\n",
    "openai.api_key = \"sk-......\"\n",
    "\n",
    "# Define an initial conversation message from the chatbot\n",
    "conversation=[{\"role\": \"system\", \"content\": \"You are a helpful assistant.\"}]\n",
    "\n",
    "# Start an infinite loop to keep the chatbot running until the user terminates the program\n",
    "while(True):\n",
    "    # Get input from the user\n",
    "    user_input = input(\"\")     \n",
    "    # Add the user's message to the conversation\n",
    "    conversation.append({\"role\": \"user\", \"content\": user_input})\n",
    "\n",
    "    # Use the GPT 3.5 turbo model to generate a response\n",
    "    response = openai.ChatCompletion.create(\n",
    "        model=\"gpt-3.5-turbo\",\n",
    "        messages = conversation\n",
    "    )\n",
    "\n",
    "    # Add the chatbot's response to the conversation\n",
    "    conversation.append({\"role\": \"assistant\", \"content\": response['choices'][0]['message']['content']})\n",
    "    # Print the chatbot's response to the console\n",
    "    print(\"\\n\" + response['choices'][0]['message']['content'] + \"\\n\")\n"
   ]
  }
 ],
 "metadata": {
  "kernelspec": {
   "display_name": "Python 3 (ipykernel)",
   "language": "python",
   "name": "python3"
  },
  "language_info": {
   "codemirror_mode": {
    "name": "ipython",
    "version": 3
   },
   "file_extension": ".py",
   "mimetype": "text/x-python",
   "name": "python",
   "nbconvert_exporter": "python",
   "pygments_lexer": "ipython3",
   "version": "3.9.12"
  }
 },
 "nbformat": 4,
 "nbformat_minor": 5
}
